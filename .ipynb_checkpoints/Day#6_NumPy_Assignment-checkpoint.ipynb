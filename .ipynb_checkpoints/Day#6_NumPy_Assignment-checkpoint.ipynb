{
 "cells": [
  {
   "cell_type": "code",
   "execution_count": 1,
   "id": "212fd1ba",
   "metadata": {},
   "outputs": [],
   "source": [
    "import numpy as np"
   ]
  },
  {
   "cell_type": "markdown",
   "id": "0a67bd40",
   "metadata": {},
   "source": [
    "## Q#1: Create x array with elements equal to 1."
   ]
  },
  {
   "cell_type": "code",
   "execution_count": 2,
   "id": "6c63c1de",
   "metadata": {},
   "outputs": [],
   "source": [
    "x = np.ones((3, 4), dtype=int)"
   ]
  },
  {
   "cell_type": "code",
   "execution_count": 3,
   "id": "2f59f886",
   "metadata": {},
   "outputs": [
    {
     "data": {
      "text/plain": [
       "array([[1, 1, 1, 1],\n",
       "       [1, 1, 1, 1],\n",
       "       [1, 1, 1, 1]])"
      ]
     },
     "execution_count": 3,
     "metadata": {},
     "output_type": "execute_result"
    }
   ],
   "source": [
    "x"
   ]
  },
  {
   "cell_type": "markdown",
   "id": "7795306d",
   "metadata": {},
   "source": [
    "## Q#2: Create y array with elements equal to 0."
   ]
  },
  {
   "cell_type": "code",
   "execution_count": 4,
   "id": "7264877c",
   "metadata": {},
   "outputs": [],
   "source": [
    "y = np.zeros((3, 4), dtype=\"int64\")"
   ]
  },
  {
   "cell_type": "code",
   "execution_count": 5,
   "id": "6dd4daf3",
   "metadata": {},
   "outputs": [
    {
     "data": {
      "text/plain": [
       "array([[0, 0, 0, 0],\n",
       "       [0, 0, 0, 0],\n",
       "       [0, 0, 0, 0]])"
      ]
     },
     "execution_count": 5,
     "metadata": {},
     "output_type": "execute_result"
    }
   ],
   "source": [
    "y"
   ]
  },
  {
   "cell_type": "markdown",
   "id": "cde6a939",
   "metadata": {},
   "source": [
    "## Q#3: Add x and y arrays."
   ]
  },
  {
   "cell_type": "code",
   "execution_count": 6,
   "id": "39fd924e",
   "metadata": {},
   "outputs": [],
   "source": [
    "xy_add = np.add(x, y)"
   ]
  },
  {
   "cell_type": "code",
   "execution_count": 7,
   "id": "6eeb80c7",
   "metadata": {},
   "outputs": [
    {
     "data": {
      "text/plain": [
       "array([[1, 1, 1, 1],\n",
       "       [1, 1, 1, 1],\n",
       "       [1, 1, 1, 1]])"
      ]
     },
     "execution_count": 7,
     "metadata": {},
     "output_type": "execute_result"
    }
   ],
   "source": [
    "xy_add"
   ]
  },
  {
   "cell_type": "markdown",
   "id": "ed854f4c",
   "metadata": {},
   "source": [
    "## Q#4: Print x array characteristics (e.g: dimension, shape, size, type)"
   ]
  },
  {
   "cell_type": "code",
   "execution_count": 8,
   "id": "7f83d9a5",
   "metadata": {},
   "outputs": [
    {
     "name": "stdout",
     "output_type": "stream",
     "text": [
      "x type is:  int64\n",
      "x shape is:  (3, 4)\n",
      "x dimension is:  2\n",
      "x size is:  12\n",
      "x mean is:  (32, 8)\n"
     ]
    }
   ],
   "source": [
    "print(\"x type is: \", x.dtype)\n",
    "print(\"x shape is: \", x.shape)\n",
    "print(\"x dimension is: \", x.ndim)\n",
    "print(\"x size is: \", x.size)\n",
    "print(\"x mean is: \", x.strides)"
   ]
  },
  {
   "cell_type": "markdown",
   "id": "dbd46a73",
   "metadata": {},
   "source": [
    "## Q#5: Create a 2D array \"called w\" as the following:\n",
    "\n",
    "|       |          |\n",
    "| ----- | -------- |\n",
    "| 11    | 12       |\n",
    "| 13    | 14       |\n",
    "| 15    | 16       |\n"
   ]
  },
  {
   "cell_type": "code",
   "execution_count": 9,
   "id": "3ca4f36f",
   "metadata": {},
   "outputs": [
    {
     "data": {
      "text/plain": [
       "array([[11, 12],\n",
       "       [13, 14],\n",
       "       [15, 16]])"
      ]
     },
     "execution_count": 9,
     "metadata": {},
     "output_type": "execute_result"
    }
   ],
   "source": [
    "w = np.arange(11, 17).reshape(3, 2)\n",
    "w"
   ]
  },
  {
   "cell_type": "markdown",
   "id": "0e62bd09",
   "metadata": {},
   "source": [
    "## Q#6: Create z array contains the numbers from 1 to 3."
   ]
  },
  {
   "cell_type": "code",
   "execution_count": 10,
   "id": "085fa63d",
   "metadata": {},
   "outputs": [
    {
     "data": {
      "text/plain": [
       "array([1.        , 1.04081633, 1.08163265, 1.12244898, 1.16326531,\n",
       "       1.20408163, 1.24489796, 1.28571429, 1.32653061, 1.36734694,\n",
       "       1.40816327, 1.44897959, 1.48979592, 1.53061224, 1.57142857,\n",
       "       1.6122449 , 1.65306122, 1.69387755, 1.73469388, 1.7755102 ,\n",
       "       1.81632653, 1.85714286, 1.89795918, 1.93877551, 1.97959184,\n",
       "       2.02040816, 2.06122449, 2.10204082, 2.14285714, 2.18367347,\n",
       "       2.2244898 , 2.26530612, 2.30612245, 2.34693878, 2.3877551 ,\n",
       "       2.42857143, 2.46938776, 2.51020408, 2.55102041, 2.59183673,\n",
       "       2.63265306, 2.67346939, 2.71428571, 2.75510204, 2.79591837,\n",
       "       2.83673469, 2.87755102, 2.91836735, 2.95918367, 3.        ])"
      ]
     },
     "execution_count": 10,
     "metadata": {},
     "output_type": "execute_result"
    }
   ],
   "source": [
    "z = np.linspace(1, 3)\n",
    "z"
   ]
  },
  {
   "cell_type": "markdown",
   "id": "32b00711",
   "metadata": {},
   "source": [
    "## Q#7: Combine the arrays z and w in vertical way then save it in a new variable \"newArray\"."
   ]
  },
  {
   "cell_type": "code",
   "execution_count": 11,
   "id": "593cecb5",
   "metadata": {},
   "outputs": [],
   "source": [
    "z = np.resize(z, (25,2))"
   ]
  },
  {
   "cell_type": "code",
   "execution_count": 28,
   "id": "56191c63",
   "metadata": {},
   "outputs": [
    {
     "data": {
      "text/plain": [
       "array([ 1.        ,  1.04081633,  1.08163265,  1.12244898,  1.16326531,\n",
       "        1.20408163,  1.24489796,  1.28571429,  1.32653061,  1.36734694,\n",
       "        1.40816327,  1.44897959,  1.48979592,  1.53061224,  1.57142857,\n",
       "        1.6122449 ,  1.65306122,  1.69387755,  1.73469388,  1.7755102 ,\n",
       "        1.81632653,  1.85714286,  1.89795918,  1.93877551,  1.97959184,\n",
       "        2.02040816,  2.06122449,  2.10204082,  2.14285714,  2.18367347,\n",
       "        2.2244898 ,  2.26530612,  2.30612245,  2.34693878,  2.3877551 ,\n",
       "        2.42857143,  2.46938776,  2.51020408,  2.55102041,  2.59183673,\n",
       "        2.63265306,  2.67346939,  2.71428571,  2.75510204,  2.79591837,\n",
       "        2.83673469,  2.87755102,  2.91836735,  2.95918367,  3.        ,\n",
       "       11.        , 12.        , 13.        , 14.        , 15.        ,\n",
       "       16.        ])"
      ]
     },
     "execution_count": 28,
     "metadata": {},
     "output_type": "execute_result"
    }
   ],
   "source": [
    "newArray = np.append(z, w)\n",
    "newArray"
   ]
  },
  {
   "cell_type": "code",
   "execution_count": 31,
   "id": "1697467e",
   "metadata": {},
   "outputs": [],
   "source": [
    "newArray.shape = (8,7)"
   ]
  },
  {
   "cell_type": "markdown",
   "id": "7e009910",
   "metadata": {},
   "source": [
    "## Q#8: Print all elements of \"newArray\" using the loop."
   ]
  },
  {
   "cell_type": "code",
   "execution_count": 32,
   "id": "dd11f8e1",
   "metadata": {},
   "outputs": [
    {
     "name": "stdout",
     "output_type": "stream",
     "text": [
      "1.0\n",
      "1.0408163265306123\n",
      "1.0816326530612246\n",
      "1.1224489795918366\n",
      "1.163265306122449\n",
      "1.2040816326530612\n",
      "1.2448979591836735\n",
      "1.2857142857142856\n",
      "1.3265306122448979\n",
      "1.3673469387755102\n",
      "1.4081632653061225\n",
      "1.4489795918367347\n",
      "1.489795918367347\n",
      "1.530612244897959\n",
      "1.5714285714285714\n",
      "1.6122448979591835\n",
      "1.6530612244897958\n",
      "1.693877551020408\n",
      "1.7346938775510203\n",
      "1.7755102040816326\n",
      "1.816326530612245\n",
      "1.8571428571428572\n",
      "1.8979591836734693\n",
      "1.9387755102040816\n",
      "1.9795918367346939\n",
      "2.020408163265306\n",
      "2.061224489795918\n",
      "2.1020408163265305\n",
      "2.142857142857143\n",
      "2.183673469387755\n",
      "2.224489795918367\n",
      "2.2653061224489797\n",
      "2.3061224489795915\n",
      "2.3469387755102042\n",
      "2.387755102040816\n",
      "2.4285714285714284\n",
      "2.4693877551020407\n",
      "2.510204081632653\n",
      "2.5510204081632653\n",
      "2.591836734693877\n",
      "2.63265306122449\n",
      "2.6734693877551017\n",
      "2.7142857142857144\n",
      "2.7551020408163263\n",
      "2.7959183673469385\n",
      "2.836734693877551\n",
      "2.877551020408163\n",
      "2.9183673469387754\n",
      "2.9591836734693877\n",
      "3.0\n",
      "11.0\n",
      "12.0\n",
      "13.0\n",
      "14.0\n",
      "15.0\n",
      "16.0\n"
     ]
    }
   ],
   "source": [
    "for i in newArray.flat:\n",
    "    print(i)"
   ]
  },
  {
   "cell_type": "markdown",
   "id": "011c6d2d",
   "metadata": {},
   "source": [
    "## Q#9: Reverse the columns and rows of \"newArray\"."
   ]
  },
  {
   "cell_type": "code",
   "execution_count": 33,
   "id": "c6416058",
   "metadata": {},
   "outputs": [],
   "source": [
    "newArray = newArray.reshape(14, 4)"
   ]
  },
  {
   "cell_type": "code",
   "execution_count": 34,
   "id": "c1eb106b",
   "metadata": {},
   "outputs": [
    {
     "data": {
      "text/plain": [
       "array([[ 1.        ,  1.04081633,  1.08163265,  1.12244898],\n",
       "       [ 1.16326531,  1.20408163,  1.24489796,  1.28571429],\n",
       "       [ 1.32653061,  1.36734694,  1.40816327,  1.44897959],\n",
       "       [ 1.48979592,  1.53061224,  1.57142857,  1.6122449 ],\n",
       "       [ 1.65306122,  1.69387755,  1.73469388,  1.7755102 ],\n",
       "       [ 1.81632653,  1.85714286,  1.89795918,  1.93877551],\n",
       "       [ 1.97959184,  2.02040816,  2.06122449,  2.10204082],\n",
       "       [ 2.14285714,  2.18367347,  2.2244898 ,  2.26530612],\n",
       "       [ 2.30612245,  2.34693878,  2.3877551 ,  2.42857143],\n",
       "       [ 2.46938776,  2.51020408,  2.55102041,  2.59183673],\n",
       "       [ 2.63265306,  2.67346939,  2.71428571,  2.75510204],\n",
       "       [ 2.79591837,  2.83673469,  2.87755102,  2.91836735],\n",
       "       [ 2.95918367,  3.        , 11.        , 12.        ],\n",
       "       [13.        , 14.        , 15.        , 16.        ]])"
      ]
     },
     "execution_count": 34,
     "metadata": {},
     "output_type": "execute_result"
    }
   ],
   "source": [
    "newArray"
   ]
  },
  {
   "cell_type": "code",
   "execution_count": 35,
   "id": "f08a19f7",
   "metadata": {},
   "outputs": [
    {
     "data": {
      "text/plain": [
       "array([[ 1.        ,  1.16326531,  1.32653061,  1.48979592,  1.65306122,\n",
       "         1.81632653,  1.97959184,  2.14285714,  2.30612245,  2.46938776,\n",
       "         2.63265306,  2.79591837,  2.95918367, 13.        ],\n",
       "       [ 1.04081633,  1.20408163,  1.36734694,  1.53061224,  1.69387755,\n",
       "         1.85714286,  2.02040816,  2.18367347,  2.34693878,  2.51020408,\n",
       "         2.67346939,  2.83673469,  3.        , 14.        ],\n",
       "       [ 1.08163265,  1.24489796,  1.40816327,  1.57142857,  1.73469388,\n",
       "         1.89795918,  2.06122449,  2.2244898 ,  2.3877551 ,  2.55102041,\n",
       "         2.71428571,  2.87755102, 11.        , 15.        ],\n",
       "       [ 1.12244898,  1.28571429,  1.44897959,  1.6122449 ,  1.7755102 ,\n",
       "         1.93877551,  2.10204082,  2.26530612,  2.42857143,  2.59183673,\n",
       "         2.75510204,  2.91836735, 12.        , 16.        ]])"
      ]
     },
     "execution_count": 35,
     "metadata": {},
     "output_type": "execute_result"
    }
   ],
   "source": [
    "np.transpose(newArray)"
   ]
  },
  {
   "cell_type": "markdown",
   "id": "f40b57c3",
   "metadata": {},
   "source": [
    "## Q#10: Decrement all elements of \"newArray\" with 1."
   ]
  },
  {
   "cell_type": "code",
   "execution_count": 17,
   "id": "abb61c19",
   "metadata": {},
   "outputs": [],
   "source": [
    "newArray = np.subtract(newArray, 1)"
   ]
  },
  {
   "cell_type": "markdown",
   "id": "8901e8be",
   "metadata": {},
   "source": [
    "## Q#11: Find smallest and biggest values in \"newArray\"."
   ]
  },
  {
   "cell_type": "code",
   "execution_count": 18,
   "id": "7c4f0120",
   "metadata": {},
   "outputs": [
    {
     "name": "stdout",
     "output_type": "stream",
     "text": [
      "Max:  15.0\n",
      "Min:  0.0\n"
     ]
    }
   ],
   "source": [
    "print(\"Max: \", np.max(newArray))\n",
    "print(\"Min: \", np.min(newArray))"
   ]
  },
  {
   "cell_type": "markdown",
   "id": "c5d5d4ca",
   "metadata": {},
   "source": [
    "## Q#12: Print the first row of \"newArray\" using indexing."
   ]
  },
  {
   "cell_type": "code",
   "execution_count": 19,
   "id": "9c586ccc",
   "metadata": {},
   "outputs": [
    {
     "name": "stdout",
     "output_type": "stream",
     "text": [
      "[0.         0.04081633 0.08163265 0.12244898]\n"
     ]
    }
   ],
   "source": [
    "print(newArray[0])"
   ]
  },
  {
   "cell_type": "code",
   "execution_count": 20,
   "id": "c1bbe8c5",
   "metadata": {},
   "outputs": [
    {
     "data": {
      "text/plain": [
       "(14, 4)"
      ]
     },
     "execution_count": 20,
     "metadata": {},
     "output_type": "execute_result"
    }
   ],
   "source": [
    "newArray.shape"
   ]
  },
  {
   "cell_type": "markdown",
   "id": "78f4d6c1",
   "metadata": {},
   "source": [
    "## Q#13: Print the number equals 12 of \"newArray\" using indexing."
   ]
  },
  {
   "cell_type": "code",
   "execution_count": 36,
   "id": "2f701e1c",
   "metadata": {},
   "outputs": [
    {
     "data": {
      "text/plain": [
       "array([12.])"
      ]
     },
     "execution_count": 36,
     "metadata": {},
     "output_type": "execute_result"
    }
   ],
   "source": [
    "newArray[np.where(newArray == 12)]"
   ]
  },
  {
   "cell_type": "markdown",
   "id": "932b5c3d",
   "metadata": {},
   "source": [
    "## Q#14: Print the numbers equal 0 and 13 of \"newArray\" using Slicing."
   ]
  },
  {
   "cell_type": "code",
   "execution_count": 22,
   "id": "cee5727c",
   "metadata": {},
   "outputs": [
    {
     "data": {
      "text/plain": [
       "array([ 0., 13.])"
      ]
     },
     "execution_count": 22,
     "metadata": {},
     "output_type": "execute_result"
    }
   ],
   "source": [
    "newArray[(newArray == 0) | (newArray == 13)]"
   ]
  },
  {
   "cell_type": "markdown",
   "id": "27e0f68e",
   "metadata": {},
   "source": [
    "## Q#15: Change the shape of \"newArray\" to (9,1)."
   ]
  },
  {
   "cell_type": "code",
   "execution_count": 23,
   "id": "5760e039",
   "metadata": {},
   "outputs": [
    {
     "data": {
      "text/plain": [
       "array([[0.        ],\n",
       "       [0.16326531],\n",
       "       [0.32653061],\n",
       "       [0.48979592],\n",
       "       [0.65306122],\n",
       "       [0.81632653],\n",
       "       [0.97959184],\n",
       "       [1.14285714],\n",
       "       [1.30612245]])"
      ]
     },
     "execution_count": 23,
     "metadata": {},
     "output_type": "execute_result"
    }
   ],
   "source": [
    "newArray[:9, 0].reshape(9,1)"
   ]
  },
  {
   "cell_type": "markdown",
   "id": "e6d104c5",
   "metadata": {},
   "source": [
    "## Q#16: Change the shape of \"newArray\" to (3,2)."
   ]
  },
  {
   "cell_type": "code",
   "execution_count": 24,
   "id": "5daf73c5",
   "metadata": {},
   "outputs": [
    {
     "data": {
      "text/plain": [
       "array([[0.        , 0.16326531],\n",
       "       [0.32653061, 0.48979592],\n",
       "       [0.65306122, 0.81632653]])"
      ]
     },
     "execution_count": 24,
     "metadata": {},
     "output_type": "execute_result"
    }
   ],
   "source": [
    "newArray[:6, 0].reshape(3,2)"
   ]
  },
  {
   "cell_type": "markdown",
   "id": "09567fdc",
   "metadata": {},
   "source": [
    "# Well Done 🎉"
   ]
  }
 ],
 "metadata": {
  "kernelspec": {
   "display_name": "Python 3 (ipykernel)",
   "language": "python",
   "name": "python3"
  },
  "language_info": {
   "codemirror_mode": {
    "name": "ipython",
    "version": 3
   },
   "file_extension": ".py",
   "mimetype": "text/x-python",
   "name": "python",
   "nbconvert_exporter": "python",
   "pygments_lexer": "ipython3",
   "version": "3.10.4"
  }
 },
 "nbformat": 4,
 "nbformat_minor": 5
}
